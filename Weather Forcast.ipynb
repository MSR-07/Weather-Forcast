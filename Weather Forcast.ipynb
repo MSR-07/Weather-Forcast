{
 "cells": [
  {
   "cell_type": "code",
   "execution_count": 1,
   "id": "d1decbf9",
   "metadata": {},
   "outputs": [],
   "source": [
    "from bs4 import BeautifulSoup\n",
    "import requests\n",
    "headers = {'User-Agent': 'Mozilla/5.0 (Windows NT 10.0; Win64; x64) AppleWebKit/537.36 (KHTML, like Gecko) Chrome/58.0.3029.110 Safari/537.3'}"
   ]
  },
  {
   "cell_type": "code",
   "execution_count": 7,
   "id": "4b1d386c",
   "metadata": {},
   "outputs": [
    {
     "name": "stdout",
     "output_type": "stream",
     "text": [
      "Please Enter the City:\n",
      "faisalabad\n",
      "Making a Google Search......\n",
      "\n",
      "Weather\n",
      "Friday 3:00 pm\n",
      "Haze\n",
      "28°C\n"
     ]
    }
   ],
   "source": [
    "def weather(city):\n",
    "    city=city.replace(\" \",\"+\")\n",
    "    res = requests.get(f'https://www.google.com/search?q={city}&oq={city}&aqs=chrome.0.35i39l2j0l4j46j69i60.6128j1j7&sourceid=chrome&ie=UTF-8',headers=headers)\n",
    "    print(\"Making a Google Search......\\n\")\n",
    "    soup = BeautifulSoup(res.text,'html.parser')   \n",
    "    location = soup.select('#wob_loc')[0].getText().strip()  \n",
    "#     time = soup.select('#wob_dts')[0].getText().strip()       \n",
    "    info = soup.select('#wob_dc')[0].getText().strip() \n",
    "    weather = soup.select('#wob_tm')[0].getText().strip()\n",
    "    print(location)\n",
    "#     print(time)\n",
    "    print(info)\n",
    "    print(weather+\"°C\") \n",
    "\n",
    "print(\"Please Enter the City:\")\n",
    "city=input()\n",
    "city=city+\" weather\"\n",
    "weather(city)"
   ]
  },
  {
   "cell_type": "code",
   "execution_count": null,
   "id": "7d56e44a",
   "metadata": {},
   "outputs": [],
   "source": []
  }
 ],
 "metadata": {
  "kernelspec": {
   "display_name": "Python 3 (ipykernel)",
   "language": "python",
   "name": "python3"
  },
  "language_info": {
   "codemirror_mode": {
    "name": "ipython",
    "version": 3
   },
   "file_extension": ".py",
   "mimetype": "text/x-python",
   "name": "python",
   "nbconvert_exporter": "python",
   "pygments_lexer": "ipython3",
   "version": "3.10.1"
  }
 },
 "nbformat": 4,
 "nbformat_minor": 5
}
